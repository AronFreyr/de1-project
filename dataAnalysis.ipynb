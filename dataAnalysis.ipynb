{
 "cells": [
  {
   "cell_type": "code",
   "execution_count": 1,
   "id": "1bff79c3-b9bf-41d7-b42c-1e1172d50a97",
   "metadata": {},
   "outputs": [],
   "source": [
    "from pyspark.sql import SparkSession\n",
    "from operator import add\n",
    "import pyspark.sql.functions as f\n",
    "from functools import reduce"
   ]
  },
  {
   "cell_type": "code",
   "execution_count": 2,
   "id": "9fb382e0-e1f1-46a8-a876-9bd23add65c9",
   "metadata": {},
   "outputs": [
    {
     "name": "stderr",
     "output_type": "stream",
     "text": [
      "SLF4J: Class path contains multiple SLF4J bindings.\n",
      "SLF4J: Found binding in [jar:file:/usr/local/spark/jars/slf4j-log4j12-1.7.30.jar!/org/slf4j/impl/StaticLoggerBinder.class]\n",
      "SLF4J: Found binding in [jar:file:/hadoop/share/hadoop/common/lib/slf4j-log4j12-1.7.30.jar!/org/slf4j/impl/StaticLoggerBinder.class]\n",
      "SLF4J: See http://www.slf4j.org/codes.html#multiple_bindings for an explanation.\n",
      "SLF4J: Actual binding is of type [org.slf4j.impl.Log4jLoggerFactory]\n",
      "Setting default log level to \"WARN\".\n",
      "To adjust logging level use sc.setLogLevel(newLevel). For SparkR, use setLogLevel(newLevel).\n",
      "2022-03-15 12:50:49,550 WARN yarn.Client: Neither spark.yarn.jars nor spark.yarn.archive is set, falling back to uploading libraries under SPARK_HOME.\n",
      "2022-03-15 12:51:09,103 WARN spark.ExecutorAllocationManager: Dynamic allocation without a shuffle service is an experimental feature.\n",
      "2022-03-15 12:51:09,119 WARN cluster.YarnSchedulerBackend$YarnSchedulerEndpoint: Attempted to request executors before the AM has registered!\n"
     ]
    }
   ],
   "source": [
    "# New API\n",
    "spark_session = SparkSession\\\n",
    "        .builder\\\n",
    "        .appName(\"dataAnalysis\")\\\n",
    "        .config(\"spark.executor.cores\",2)\\\n",
    "        .config(\"spark.cores.max\", 4)\\\n",
    "        .config(\"spark.dynamicAllocation.enabled\", True)\\\n",
    "        .config(\"spark.dynamicAllocation.shuffleTracking.enabled\", True)\\\n",
    "        .config(\"spark.shuffle.service.enabled\", False)\\\n",
    "        .config(\"spark.dynamicAllocation.executorIdleTimeout\",\"30s\")\\\n",
    "        .config(\"spark.driver.port\",9998)\\\n",
    "        .config(\"spark.blockManager.port\",10005)\\\n",
    "        .getOrCreate()"
   ]
  },
  {
   "cell_type": "code",
   "execution_count": 3,
   "id": "f6367c14-f5e7-4f13-a35b-2d6e8d998f60",
   "metadata": {},
   "outputs": [
    {
     "name": "stderr",
     "output_type": "stream",
     "text": [
      "2022-03-15 12:51:29,558 WARN util.package: Truncated the string representation of a plan since it was too large. This behavior can be adjusted by setting 'spark.sql.debug.maxToStringFields'.\n"
     ]
    },
    {
     "name": "stdout",
     "output_type": "stream",
     "text": [
      "+------------------+-------------------+-------------------+------------------+--------------------+---------------+-----------------+---------------+----------------+---------------+--------------------+--------------------+------------------+-------------------+--------------------+----------------+---------------+--------------------+-----------------+-------------------+--------------------+--------------------+------------+--------+--------------+------+----+--------------+--------+----+---------------+-----------------+-------+--------------+--------------------+------------------+--------------+-------------------+----------------+---------------+--------------------+--------------------+--------------------+--------------+-------------------+-----------+----------------+----------+---------------+------------+-----------------+-------------+-------------------+----+\n",
      "|               _c0|                _c1|                _c2|               _c3|                 _c4|            _c5|              _c6|            _c7|             _c8|            _c9|                _c10|                _c11|              _c12|               _c13|                _c14|            _c15|           _c16|                _c17|             _c18|               _c19|                _c20|                _c21|        _c22|    _c23|          _c24|  _c25|_c26|          _c27|    _c28|_c29|           _c30|             _c31|   _c32|          _c33|                _c34|              _c35|          _c36|               _c37|            _c38|           _c39|                _c40|                _c41|                _c42|          _c43|               _c44|       _c45|            _c46|      _c47|           _c48|        _c49|             _c50|         _c51|               _c52|_c53|\n",
      "+------------------+-------------------+-------------------+------------------+--------------------+---------------+-----------------+---------------+----------------+---------------+--------------------+--------------------+------------------+-------------------+--------------------+----------------+---------------+--------------------+-----------------+-------------------+--------------------+--------------------+------------+--------+--------------+------+----+--------------+--------+----+---------------+-----------------+-------+--------------+--------------------+------------------+--------------+-------------------+----------------+---------------+--------------------+--------------------+--------------------+--------------+-------------------+-----------+----------------+----------+---------------+------------+-----------------+-------------+-------------------+----+\n",
      "|           song_id| artist_familiarity|  artist_hotttnesss|         artist_id|         artist_mbid|artist_playmeid|artist_7digitalid|artist_latitude|artist_longitude|artist_location|         artist_name|             release|release_7digitalid|    song_hotttnesss|               title|track_7digitalid|similar_artists|        artist_terms|artist_terms_freq|artist_terms_weight|analysis_sample_rate|           audio_md5|danceability|duration|end_of_fade_in|energy| key|key_confidence|loudness|mode|mode_confidence|start_of_fade_out|  tempo|time_signature|time_signature_co...|          track_id|segments_start|segments_confidence|segments_pitches|segments_timbre|segments_loudness...|segments_loudness...|segments_loudness...|sections_start|sections_confidence|beats_start|beats_confidence|bars_start|bars_confidence|tatums_start|tatums_confidence|artist_mbtags|artist_mbtags_count|year|\n",
      "|SOGSMXL12A81C23D88| 0.5574602197393447| 0.3861516314132549|AREJXK41187B9A4ACC|c43bb0d6-94d7-410...|           2676|            16971|       46.71067|         1.71819|         France|      Rapha\\xc3\\xabl|Je Sais Que La Te...|            275907| 0.5479529419800353|Je Sais Que La Te...|         3073568|           null|\"chanson\" \"visual...|             null|               null|               22050|d8bafd4a65d1855ae...|         0.0|     0.0|         0.192|   0.0|   0|         0.591|  -9.636|   1|          0.556|          141.607|124.059|             4|               0.372|TRARRZU128F4253CA2|          null|               null|            null|           null|                null|                null|                null|          null|               null|       null|            null|      null|           null|        null|             null|         null|               null|2008|\n",
      "|SOMBCOW12AAF3B229F| 0.6269577230052118|0.43485958934341257|AR2XRFQ1187FB417FE|a69cd724-2f57-4ed...|           5772|            92108|           null|            null|           null|       Julie Zenatti|          Comme Vous|            382807|0.47563846801023907|           On Efface|         4249244|           null|\"chanson\" \"dance ...|             null|               null|               22050|55f60c97280172e92...|         0.0|     0.0|         0.514|   0.0|   1|         0.429| -11.061|   0|           0.67|          241.424| 80.084|             4|               0.533|TRARRJL128F92DED0E|          null|               null|            null|           null|                null|                null|                null|          null|               null|       null|            null|      null|           null|        null|             null|         null|               null|2004|\n",
      "|SOEYIHF12AB017B5F4|0.42572365804650586|                0.0|ARODOO01187FB44F4A|60bd8a1c-c093-484...|          20540|             1701|           null|            null|           null|The Baltimore Con...|Watkins Ale -  Mu...|            490659|                nan|     Howells Delight|         5436063|           null|\"early music\" \"ce...|             null|               null|               22050|053fb50807248bef9...|         0.0|     0.0|         0.974|   0.0|   3|           0.0|  -24.14|   1|            0.0|           78.027| 54.874|             4|                 0.0|TRARRUZ128F9307C57|          null|               null|            null|           null|                null|                null|                null|          null|               null|       null|            null|      null|           null|        null|             null|         null|               null|   0|\n",
      "|SODJYEC12A8C13D757| 0.6114954183523941| 0.3345197638116389|ARJGW911187FB586CA|44b5b950-2ae2-403...|             -1|            92184|           null|            null|           null|        I Hate Sally|\"b\"Don't Worry La...|            116616|                nan|       Martha Served|         1199928|           null|\"post-hardcore\" \"...|             null|               null|               22050|1637df8efe4d89507...|         0.0|     0.0|           0.0|   0.0|   7|          0.38|  -5.795|   1|          0.385|          158.511|  77.15|             3|               0.369|TRARRWA128F42A0195|          null|               null|            null|           null|                null|                null|                null|          null|               null|       null|            null|      null|           null|        null|             null|         null|               null|2007|\n",
      "|SOGSOUE12A58A76443| 0.3672550107574772| 0.3116155449734521|AR9HQ6Y1187FB3C2CB|0e6524bd-6641-46a...|             -1|           278655|           null|            null|           null|Orlando Pops Orch...|Easy Listening: C...|            767122|                nan|Zip-A-Dee-Doo-Dah...|         8493899|           null|\"orchestra\" \"musi...|             null|               null|               22050|ad4e2031b81e71567...|         0.0|     0.0|           0.0|   0.0|  10|         0.551| -16.477|   1|          0.528|          195.808|120.382|             4|                 1.0|TRARRPG12903CD1DE9|          null|               null|            null|           null|                null|                null|                null|          null|               null|       null|            null|      null|           null|        null|             null|         null|               null|   0|\n",
      "|SOVVDCO12AB0187AF7| 0.6013057514861917| 0.3636756770511417|ARDPTGD1187B9AD361|097c86bc-b2b6-479...|          88169|            16313|       36.87652|       -89.58828|    Sikeston MO|             Brand X|X Communication :...|            503347| 0.4454545254934259|Liquid Time (comp...|         5570526|           null|\"jazz fusion\" \"ja...|             null|               null|               22050|b5a179fb28efbc6aa...|         0.0|     0.0|         0.433|   0.0|   9|         0.519| -12.474|   1|          0.491|          261.288| 99.024|             4|                 1.0|TRARRER128F9328521|          null|               null|            null|           null|                null|                null|                null|          null|               null|       null|            null|      null|           null|        null|             null|         null|               null|   0|\n",
      "|SOKSZVC12A8C142004| 0.7090105251029095| 0.5535661720707804|ARV8T9T1187B99F3F4|efaefde1-e09b-4d4...|          51681|            21896|           null|            null|           null|            Amorphis|    Karelian Isthmus|            239673| 0.3277366831778408|Misery Path (From...|         2999402|           null|\"progressive meta...|             null|               null|               22050|00e6316aa4fd01163...|         0.0|     0.0|         0.449|   0.0|   9|         0.447|  -4.393|   1|          0.247|          251.275|175.673|             4|                 0.0|TRARRYC128F428CCDA|          null|               null|            null|           null|                null|                null|                null|          null|               null|       null|            null|      null|           null|        null|             null|         null|               null|   0|\n",
      "|SORWTIF12A6D4FAA41| 0.5480223990659485|0.44013471201542936|ARJ5BEW1187FB52361|de885e5b-284d-4da...|             -1|            98670|           null|            null|           null|               Inoki|Nobilt\\xc3\\xa0 di...|            124304|                nan|Nuovi Re pt. I I ...|         1283021|           null|\"pop rap\" \"hardco...|             null|               null|               22050|0bb8aae991035572e...|         0.0|     0.0|         0.223|   0.0|   1|         0.194|   -5.05|   1|          0.436|          249.255| 87.999|             4|               0.954|TRARROY128F42281F7|          null|               null|            null|           null|                null|                null|                null|          null|               null|       null|            null|      null|           null|        null|             null|         null|               null|   0|\n",
      "|SOZQSGL12AF72A9145|  0.737037558041999| 0.5392454183492504|AR050VJ1187B9B13A7|37c78aeb-d196-42b...|           6004|            94403|           null|            null|           null|       Dead Kennedys|Milking The Sacre...|            181162| 0.7883881833222074|           Halloween|         1959132|           null|\"rock\" \"hardcore ...|             null|               null|               22050|5032dfa341b6d0606...|         0.0|     0.0|           0.0|   0.0|  10|         0.325|  -4.264|   1|          0.286|           213.02| 92.897|             4|               0.879|TRARREF128F422FD96|          null|               null|            null|           null|                null|                null|                null|          null|               null|       null|            null|      null|           null|        null|             null|         null|               null|1982|\n",
      "+------------------+-------------------+-------------------+------------------+--------------------+---------------+-----------------+---------------+----------------+---------------+--------------------+--------------------+------------------+-------------------+--------------------+----------------+---------------+--------------------+-----------------+-------------------+--------------------+--------------------+------------+--------+--------------+------+----+--------------+--------+----+---------------+-----------------+-------+--------------+--------------------+------------------+--------------+-------------------+----------------+---------------+--------------------+--------------------+--------------------+--------------+-------------------+-----------+----------------+----------+---------------+------------+-----------------+-------------+-------------------+----+\n",
      "only showing top 10 rows\n",
      "\n"
     ]
    }
   ],
   "source": [
    "data_frame = spark_session.read.csv('hdfs://192.168.2.112:9000/user/ubuntu/million_song_dataset/million_song_subset_1gb_1.csv')\n",
    "data_frame.show(10)"
   ]
  },
  {
   "cell_type": "code",
   "execution_count": 4,
   "id": "623b9dde-1f89-41ff-b235-4ce47ab9be61",
   "metadata": {},
   "outputs": [
    {
     "name": "stderr",
     "output_type": "stream",
     "text": [
      "[Stage 3:==========================>                                (4 + 5) / 9]\r"
     ]
    },
    {
     "name": "stdout",
     "output_type": "stream",
     "text": [
      "[('piano rock', 0.6182291512178814), ('female artist', 0.5774851354008803), ('celtic punk', 0.5684918165206909), ('soul music', 0.5484946156341722), ('emo pop', 0.5318947867000293), ('rap metal', 0.5311634882035914), ('jangle', 0.5287325140957634), ('dance pop', 0.527389485537546), ('golden age', 0.5252481275398015), ('teen pop', 0.5251352464154219), ('aggressive', 0.5215686238116448), ('eerie', 0.5204120874404907), ('crunk', 0.5193406785616702), ('american trad rock', 0.516848406316112), ('heavy', 0.5155343351305253), ('christian punk', 0.5149179875090691), ('influential', 0.5141249149783219), ('emo rock', 0.514052338940974), ('high school', 0.5123568569291223), ('emotional', 0.5086058054222073)]\n"
     ]
    },
    {
     "name": "stderr",
     "output_type": "stream",
     "text": [
      "                                                                                \r"
     ]
    }
   ],
   "source": [
    "def trim_genre(genre):\n",
    "    \"\"\" UDF funtion that strips the genres of quotation marks and spaces. \"\"\"\n",
    "    return genre.strip(' ').strip('\"')\n",
    "\n",
    "def mapper(genres_and_hotness):\n",
    "    \"\"\"\n",
    "    Mapper function used to pair hotness to genres. It pairs every genre in a list to an inputed hotness score.\n",
    "    \n",
    "    genres_and_hotness is a tuple that contains a list and a number.\n",
    "    The list is a list of genres and the number is the hotness that each genre in the list is supposed to have.\n",
    "    Here we pair that single hotness value to every genre in the list and return that.\n",
    "    Example input: (['grunge', 'rock', 'pop'], 0.5)\n",
    "    Example output: (('grunge', 0.5), ('rock', 0.5), ('pop', 0.5))\n",
    "    \"\"\"\n",
    "    \n",
    "    # genres_and_hotness[0] is a list of genres\n",
    "    # genres_and_hotness[1] is the hotness score\n",
    "    return ((genre, genres_and_hotness[1]) for genre in genres_and_hotness[0])\n",
    "\n",
    "# Create trim_genre udf\n",
    "trim_genre = f.udf(trim_genre)\n",
    "\n",
    "# Get list of genres for a single artist (_c17) and trim that list.\n",
    "# get also the hotness for that artist (_c2)\n",
    "# Filter out the line that contains 'artist_terms' (that is only the first line)\n",
    "# Convert the hotness column from string to float\n",
    "# map it.\n",
    "genres_and_hotness_df = data_frame.select(f.split(trim_genre(data_frame['_c17']), '\" \"'), '_c2')\\\n",
    "                        .filter(data_frame['_c17'] != 'artist_terms')\\\n",
    "                        .withColumn('_c2', data_frame['_c2'].cast('float').alias('_c2'))\\\n",
    "                        .rdd.map(lambda x: x)\n",
    "\n",
    "# Create a flatmap of genre and hotness pairs.\n",
    "mappings = genres_and_hotness_df.flatMap(mapper)\n",
    "\n",
    "# map the genres, so we can count how often they appear\n",
    "# reduceByKey is summing up the values of the hotness for each genre and also summing up how often each genre appears.\n",
    "# filter is filtering out genres that appear too infrequently.\n",
    "# mapValues is creating the average by dividing the sum of the hotness values with the count of how often a genre appears.\n",
    "avg_rdd = mappings.mapValues(lambda x: (x, 1))\\\n",
    "                  .reduceByKey(lambda x, y: (x[0] + y[0], x[1] + y[1]))\\\n",
    "                  .filter(lambda x: x[1][1] > 1000)\\\n",
    "                  .mapValues(lambda x: x[0] / x[1])\n",
    "\n",
    "# ordering it to return the highest valued genres first.\n",
    "print(avg_rdd.takeOrdered(20, key=lambda x: -x[1]))\n"
   ]
  },
  {
   "cell_type": "code",
   "execution_count": 5,
   "id": "9fb9279b-a9ee-4a91-b6ca-ca4979230f2c",
   "metadata": {},
   "outputs": [
    {
     "data": {
      "text/plain": [
       "<AxesSubplot:xlabel='names'>"
      ]
     },
     "execution_count": 5,
     "metadata": {},
     "output_type": "execute_result"
    },
    {
     "data": {
      "image/png": "[encoded data removed]",
      "text/plain": [
       "<Figure size 432x288 with 1 Axes>"
      ]
     },
     "metadata": {
      "needs_background": "light"
     },
     "output_type": "display_data"
    }
   ],
   "source": [
    "import pandas as pd\n",
    "data_list = avg_rdd.takeOrdered(10, key=lambda x: -x[1])\n",
    "plot_data = pd.DataFrame({'names': [x[0] for x in data_list], 'values': [x[1] for x in data_list]})\n",
    "plot_data.plot.bar(x='names', y='values')"
   ]
  },
  {
   "cell_type": "code",
   "execution_count": null,
   "id": "dbf77cc4-5271-4f53-9eaf-54e27c712cf1",
   "metadata": {},
   "outputs": [],
   "source": []
  }
 ],
 "metadata": {
  "kernelspec": {
   "display_name": "Python 3 (ipykernel)",
   "language": "python",
   "name": "python3"
  },
  "language_info": {
   "codemirror_mode": {
    "name": "ipython",
    "version": 3
   },
   "file_extension": ".py",
   "mimetype": "text/x-python",
   "name": "python",
   "nbconvert_exporter": "python",
   "pygments_lexer": "ipython3",
   "version": "3.8.10"
  }
 },
 "nbformat": 4,
 "nbformat_minor": 5
}
